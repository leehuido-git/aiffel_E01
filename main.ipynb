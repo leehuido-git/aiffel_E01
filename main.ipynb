{
 "cells": [
  {
   "cell_type": "code",
   "execution_count": 1,
   "id": "eecceae3",
   "metadata": {},
   "outputs": [],
   "source": [
    "import os\n",
    "import sys\n",
    "import platform\n",
    "import random\n",
    "\n",
    "import matplotlib.pyplot as plt\n",
    "import numpy as np\n",
    "\n",
    "from PIL import Image\n",
    "from tensorflow import keras"
   ]
  },
  {
   "cell_type": "code",
   "execution_count": 2,
   "id": "20b63716",
   "metadata": {},
   "outputs": [],
   "source": [
    "img_size = (56, 56, 3)\n",
    "check = True"
   ]
  },
  {
   "cell_type": "code",
   "execution_count": 3,
   "id": "5bb5fd3a",
   "metadata": {},
   "outputs": [],
   "source": [
    "def load_path(img_dir):\n",
    "    #이미지 데이터와 라벨(가위 : 0, 바위 : 1, 보 : 2)\n",
    "    ext = ['.JPG', '.jpg', '.png', 'PNG']\n",
    "    img_paths = []\n",
    "    labels = []\n",
    "\n",
    "    for (path, dir, files) in os.walk(img_dir):\n",
    "        if 'scissor' in path.split(slashs):\n",
    "            for filename in files:\n",
    "                if os.path.splitext(filename)[-1] in ext:\n",
    "                    img_paths.append(os.path.join(path, filename))\n",
    "                    labels.append(0)\n",
    "        elif 'rock' in path.split(slashs):\n",
    "            for filename in files:\n",
    "                if os.path.splitext(filename)[-1] in ext:\n",
    "                    img_paths.append(os.path.join(path, filename))\n",
    "                    labels.append(1)\n",
    "        elif 'paper' in path.split(slashs):\n",
    "            for filename in files:\n",
    "                if os.path.splitext(filename)[-1] in ext:\n",
    "                    img_paths.append(os.path.join(path, filename))\n",
    "                    labels.append(2)\n",
    "    print(\"이미지 개수는 {}입니다.\".format(len(img_paths)))\n",
    "    if len(img_paths) == 0:\n",
    "        print(\"이미지가 없습니다!\")\n",
    "        sys.exit()\n",
    "    return img_paths, np.array(labels, dtype=np.int32)"
   ]
  },
  {
   "cell_type": "code",
   "execution_count": 4,
   "id": "6770f1a1",
   "metadata": {},
   "outputs": [],
   "source": [
    "def load_imgs(img_paths, norm=True):\n",
    "    rgb_weights = [0.2989, 0.5870, 0.1140]\n",
    "    imgs=np.zeros(len(img_paths)*img_size[0]*img_size[1]*img_size[2],dtype=np.int32).reshape(len(img_paths),img_size[0],img_size[1],img_size[2])\n",
    "\n",
    "    for i, img_path in enumerate(img_paths):\n",
    "        img = np.array(Image.open(img_path).resize(img_size[:2], Image.ANTIALIAS), dtype=np.int32)\n",
    "        if(img_size[2] == 1):\n",
    "            imgs[i,:,:,:] = np.dot(img, rgb_weights).reshape(img_size[0], img_size[1], -1)\n",
    "        else:\n",
    "            imgs[i,:,:,:] = img\n",
    "    print(\"data range {} ~ {}\".format(np.min(imgs), np.max(imgs)))\n",
    "\n",
    "    if norm:\n",
    "        imgs = imgs/255.0\n",
    "        print(\"-> data range {} ~ {}\".format(np.min(imgs), np.max(imgs)))\n",
    "    return imgs"
   ]
  },
  {
   "cell_type": "code",
   "execution_count": 5,
   "id": "5be8c5b1",
   "metadata": {},
   "outputs": [],
   "source": [
    "#Jupyter\n",
    "#local_path = os.getenv(\"HOME\") + \"/aiffel/rock_scissor_paper\"\n",
    "local_path = os.getcwd()\n",
    "slashs = '\\\\' if platform.system() == 'Windows' else '/'"
   ]
  },
  {
   "cell_type": "code",
   "execution_count": 6,
   "id": "634a66ea",
   "metadata": {},
   "outputs": [],
   "source": [
    "trees = [os.path.join(local_path, 'data')\\\n",
    ", os.path.join(local_path, 'data', 'train'), os.path.join(local_path, 'data', 'test')\\\n",
    ", os.path.join(local_path, 'data', 'train', 'paper'), os.path.join(local_path, 'data', 'train', 'rock'), os.path.join(local_path, 'data', 'train', 'scissor')\\\n",
    ", os.path.join(local_path, 'data', 'test', 'paper'), os.path.join(local_path, 'data', 'test', 'rock'), os.path.join(local_path, 'data', 'test', 'scissor')]\n"
   ]
  },
  {
   "cell_type": "code",
   "execution_count": 7,
   "id": "8033d8d1",
   "metadata": {},
   "outputs": [],
   "source": [
    "tree_result = []\n",
    "tree_result = list([ True  if  os.path.isdir(i) else False for i in trees])\n",
    "for i, _bool in enumerate(tree_result):\n",
    "    if _bool == False:\n",
    "        print(\"{}가 경로에 없습니다! 다시 만들어주세요.\".format(trees[i]))\n",
    "        sys.exit()"
   ]
  },
  {
   "cell_type": "code",
   "execution_count": 8,
   "id": "3e3cee76",
   "metadata": {},
   "outputs": [
    {
     "name": "stdout",
     "output_type": "stream",
     "text": [
      "이미지 개수는 5627입니다.\n",
      "data range 0 ~ 255\n",
      "-> data range 0.0 ~ 1.0\n"
     ]
    }
   ],
   "source": [
    "######################################## trainset 로드\n",
    "img_path = os.path.join(local_path, 'data', 'train')\n",
    "train_img_paths, y_train = load_path(img_path)\n",
    "x_train = load_imgs(train_img_paths, norm=True)"
   ]
  },
  {
   "cell_type": "code",
   "execution_count": 9,
   "id": "5e5d466e",
   "metadata": {},
   "outputs": [
    {
     "name": "stdout",
     "output_type": "stream",
     "text": [
      "라벨: 보\n"
     ]
    },
    {
     "data": {
      "image/png": "[encoded data removed]",
      "text/plain": [
       "<Figure size 432x288 with 1 Axes>"
      ]
     },
     "metadata": {
      "needs_background": "light"
     },
     "output_type": "display_data"
    }
   ],
   "source": [
    "######################################## trainset 확인\n",
    "if check:\n",
    "    ran_idx = random.randrange(0, len(x_train))\n",
    "    if(img_size[2] == 1):\n",
    "        plt.imshow(x_train[ran_idx], cmap='gray')        \n",
    "    else:\n",
    "        plt.imshow(x_train[ran_idx])\n",
    "    print('라벨: {}'.format('가위' if y_train[ran_idx] == 0 else '바위' if y_train[ran_idx] == 1 else '보'))\n",
    "    if slashs == \"\\\\\":\n",
    "        plt.show()"
   ]
  },
  {
   "cell_type": "code",
   "execution_count": 10,
   "id": "094c7d9a",
   "metadata": {},
   "outputs": [
    {
     "name": "stdout",
     "output_type": "stream",
     "text": [
      "이미지 개수는 300입니다.\n",
      "data range 13 ~ 254\n",
      "-> data range 0.050980392156862744 ~ 0.996078431372549\n"
     ]
    }
   ],
   "source": [
    "######################################## testset 로드\n",
    "img_path = os.path.join(local_path, 'data', 'test')\n",
    "test_img_paths, y_test = load_path(img_path)\n",
    "x_test = load_imgs(test_img_paths, norm=True)"
   ]
  },
  {
   "cell_type": "code",
   "execution_count": 11,
   "id": "6d121043",
   "metadata": {},
   "outputs": [
    {
     "name": "stdout",
     "output_type": "stream",
     "text": [
      "라벨: 바위\n"
     ]
    },
    {
     "data": {
      "image/png": "[encoded data removed]",
      "text/plain": [
       "<Figure size 432x288 with 1 Axes>"
      ]
     },
     "metadata": {
      "needs_background": "light"
     },
     "output_type": "display_data"
    }
   ],
   "source": [
    "######################################## testset 확인\n",
    "if check:\n",
    "    ran_idx = random.randrange(0, len(x_test))\n",
    "    if(img_size[2] == 1):\n",
    "        plt.imshow(x_test[ran_idx], cmap='gray')        \n",
    "    else:\n",
    "        plt.imshow(x_test[ran_idx])\n",
    "    print('라벨: {}'.format('가위' if y_test[ran_idx] == 0 else '바위' if y_test[ran_idx] == 1 else '보'))\n",
    "    if slashs == \"\\\\\":\n",
    "        plt.show()"
   ]
  },
  {
   "cell_type": "code",
   "execution_count": 12,
   "id": "2fbdd794",
   "metadata": {},
   "outputs": [
    {
     "name": "stdout",
     "output_type": "stream",
     "text": [
      "Model: \"sequential\"\n",
      "_________________________________________________________________\n",
      "Layer (type)                 Output Shape              Param #   \n",
      "=================================================================\n",
      "conv2d (Conv2D)              (None, 54, 54, 16)        448       \n",
      "_________________________________________________________________\n",
      "max_pooling2d (MaxPooling2D) (None, 27, 27, 16)        0         \n",
      "_________________________________________________________________\n",
      "conv2d_1 (Conv2D)            (None, 25, 25, 32)        4640      \n",
      "_________________________________________________________________\n",
      "max_pooling2d_1 (MaxPooling2 (None, 12, 12, 32)        0         \n",
      "_________________________________________________________________\n",
      "conv2d_2 (Conv2D)            (None, 10, 10, 64)        18496     \n",
      "_________________________________________________________________\n",
      "max_pooling2d_2 (MaxPooling2 (None, 5, 5, 64)          0         \n",
      "_________________________________________________________________\n",
      "flatten (Flatten)            (None, 1600)              0         \n",
      "_________________________________________________________________\n",
      "dense (Dense)                (None, 512)               819712    \n",
      "_________________________________________________________________\n",
      "dense_1 (Dense)              (None, 64)                32832     \n",
      "_________________________________________________________________\n",
      "dense_2 (Dense)              (None, 3)                 195       \n",
      "=================================================================\n",
      "Total params: 876,323\n",
      "Trainable params: 876,323\n",
      "Non-trainable params: 0\n",
      "_________________________________________________________________\n"
     ]
    }
   ],
   "source": [
    "######################################## model 생성\n",
    "model=keras.models.Sequential()\n",
    "model.add(keras.layers.Conv2D(16, (3,3), activation='relu', input_shape=(img_size[0],img_size[1],img_size[2])))\n",
    "model.add(keras.layers.MaxPooling2D((2,2)))\n",
    "model.add(keras.layers.Conv2D(32, (3,3), activation='relu'))\n",
    "model.add(keras.layers.MaxPooling2D((2,2)))\n",
    "model.add(keras.layers.Conv2D(64, (3,3), activation='relu'))\n",
    "model.add(keras.layers.MaxPooling2D((2,2)))\n",
    "model.add(keras.layers.Flatten())\n",
    "model.add(keras.layers.Dense(512, activation='relu'))\n",
    "model.add(keras.layers.Dense(64, activation='relu'))\n",
    "model.add(keras.layers.Dense(3, activation='softmax'))\n",
    "\n",
    "model.compile(optimizer='adam',\n",
    "        loss='sparse_categorical_crossentropy',\n",
    "        metrics=['accuracy'])\n",
    "model.summary()"
   ]
  },
  {
   "cell_type": "code",
   "execution_count": 13,
   "id": "aad3467e",
   "metadata": {},
   "outputs": [],
   "source": [
    "######################################## data shuffle\n",
    "idx = np.arange(len(x_train))\n",
    "np.random.shuffle(idx)\n",
    "x_train = x_train[idx]\n",
    "y_train = y_train[idx]"
   ]
  },
  {
   "cell_type": "code",
   "execution_count": 14,
   "id": "e9ba815c",
   "metadata": {},
   "outputs": [
    {
     "name": "stdout",
     "output_type": "stream",
     "text": [
      "Epoch 1/6\n",
      "176/176 [==============================] - 27s 5ms/step - loss: 0.8116 - accuracy: 0.6055\n",
      "Epoch 2/6\n",
      "176/176 [==============================] - 1s 4ms/step - loss: 0.3234 - accuracy: 0.8726\n",
      "Epoch 3/6\n",
      "176/176 [==============================] - 1s 4ms/step - loss: 0.1427 - accuracy: 0.9479\n",
      "Epoch 4/6\n",
      "176/176 [==============================] - 1s 4ms/step - loss: 0.0838 - accuracy: 0.9725\n",
      "Epoch 5/6\n",
      "176/176 [==============================] - 1s 4ms/step - loss: 0.0356 - accuracy: 0.9881\n",
      "Epoch 6/6\n",
      "176/176 [==============================] - 1s 4ms/step - loss: 0.0495 - accuracy: 0.9840\n"
     ]
    },
    {
     "data": {
      "text/plain": [
       "<keras.callbacks.History at 0x7f24e9586a90>"
      ]
     },
     "execution_count": 14,
     "metadata": {},
     "output_type": "execute_result"
    }
   ],
   "source": [
    "######################################## model training\n",
    "model.fit(x_train, y_train, epochs=6)"
   ]
  },
  {
   "cell_type": "code",
   "execution_count": 15,
   "id": "16705069",
   "metadata": {},
   "outputs": [
    {
     "name": "stdout",
     "output_type": "stream",
     "text": [
      "10/10 - 0s - loss: 1.4123 - accuracy: 0.7300\n",
      "test_loss: 1.4122921228408813 \n",
      "test_accuracy: 0.7300000190734863\n"
     ]
    }
   ],
   "source": [
    "######################################## model test\n",
    "test_loss, test_accuracy = model.evaluate(x_test, y_test, verbose=2)\n",
    "print(\"test_loss: {} \".format(test_loss))\n",
    "print(\"test_accuracy: {}\".format(test_accuracy))"
   ]
  },
  {
   "cell_type": "code",
   "execution_count": null,
   "id": "8246f338",
   "metadata": {},
   "outputs": [],
   "source": []
  }
 ],
 "metadata": {
  "kernelspec": {
   "display_name": "Python 3 (ipykernel)",
   "language": "python",
   "name": "python3"
  },
  "language_info": {
   "codemirror_mode": {
    "name": "ipython",
    "version": 3
   },
   "file_extension": ".py",
   "mimetype": "text/x-python",
   "name": "python",
   "nbconvert_exporter": "python",
   "pygments_lexer": "ipython3",
   "version": "3.9.7"
  }
 },
 "nbformat": 4,
 "nbformat_minor": 5
}
